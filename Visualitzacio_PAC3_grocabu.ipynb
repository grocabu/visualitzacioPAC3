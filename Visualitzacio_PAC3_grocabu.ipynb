{
 "cells": [
  {
   "cell_type": "code",
   "execution_count": 1,
   "id": "225f7540",
   "metadata": {},
   "outputs": [],
   "source": [
    "import pandas as pd\n",
    "from plotly.subplots import make_subplots\n",
    "import pycountry_convert as pc"
   ]
  },
  {
   "cell_type": "markdown",
   "id": "085b513a",
   "metadata": {},
   "source": [
    "# 1. Llegim el fitxer en format Excel"
   ]
  },
  {
   "cell_type": "code",
   "execution_count": 2,
   "id": "c53e0b47",
   "metadata": {},
   "outputs": [],
   "source": [
    "ruta_document = 'migracio.xlsx'\n",
    "\n",
    "df = pd.read_excel(ruta_document, sheet_name='Table 1', header=10)"
   ]
  },
  {
   "cell_type": "markdown",
   "id": "6b76cdf8",
   "metadata": {},
   "source": [
    "# 2. Canviem nomes de columnes i afegim el continent al qual pertanyen"
   ]
  },
  {
   "cell_type": "code",
   "execution_count": 20,
   "id": "7cac1046",
   "metadata": {},
   "outputs": [
    {
     "name": "stderr",
     "output_type": "stream",
     "text": [
      "/var/folders/d9/hpj0n4ds4lb3546xfwjxjmcm0000gq/T/ipykernel_82787/1668529684.py:6: FutureWarning: The default value of regex will change from True to False in a future version. In addition, single character regular expressions will *not* be treated as literal strings when regex=True.\n",
      "  df['Origin'] = df['Origin'].str.replace('*', '')\n",
      "/var/folders/d9/hpj0n4ds4lb3546xfwjxjmcm0000gq/T/ipykernel_82787/1668529684.py:10: FutureWarning: The default value of regex will change from True to False in a future version. In addition, single character regular expressions will *not* be treated as literal strings when regex=True.\n",
      "  df['Destination'] = df['Destination'].str.replace('*', '')\n",
      "/var/folders/d9/hpj0n4ds4lb3546xfwjxjmcm0000gq/T/ipykernel_82787/1668529684.py:32: SettingWithCopyWarning: \n",
      "A value is trying to be set on a copy of a slice from a DataFrame.\n",
      "Try using .loc[row_indexer,col_indexer] = value instead\n",
      "\n",
      "See the caveats in the documentation: https://pandas.pydata.org/pandas-docs/stable/user_guide/indexing.html#returning-a-view-versus-a-copy\n",
      "  paisos['Continent_origin'] = df['Origin'].apply(country_to_continent)\n",
      "/var/folders/d9/hpj0n4ds4lb3546xfwjxjmcm0000gq/T/ipykernel_82787/1668529684.py:33: SettingWithCopyWarning: \n",
      "A value is trying to be set on a copy of a slice from a DataFrame.\n",
      "Try using .loc[row_indexer,col_indexer] = value instead\n",
      "\n",
      "See the caveats in the documentation: https://pandas.pydata.org/pandas-docs/stable/user_guide/indexing.html#returning-a-view-versus-a-copy\n",
      "  paisos['Continent_dest'] = df['Destination'].apply(country_to_continent)\n",
      "/var/folders/d9/hpj0n4ds4lb3546xfwjxjmcm0000gq/T/ipykernel_82787/1668529684.py:56: SettingWithCopyWarning: \n",
      "A value is trying to be set on a copy of a slice from a DataFrame.\n",
      "Try using .loc[row_indexer,col_indexer] = value instead\n",
      "\n",
      "See the caveats in the documentation: https://pandas.pydata.org/pandas-docs/stable/user_guide/indexing.html#returning-a-view-versus-a-copy\n",
      "  paisos['Continent_origin'] = paisos['Origin'].map(correspondencia).fillna(paisos['Continent_origin'])\n",
      "/var/folders/d9/hpj0n4ds4lb3546xfwjxjmcm0000gq/T/ipykernel_82787/1668529684.py:57: SettingWithCopyWarning: \n",
      "A value is trying to be set on a copy of a slice from a DataFrame.\n",
      "Try using .loc[row_indexer,col_indexer] = value instead\n",
      "\n",
      "See the caveats in the documentation: https://pandas.pydata.org/pandas-docs/stable/user_guide/indexing.html#returning-a-view-versus-a-copy\n",
      "  paisos['Continent_dest'] = paisos['Destination'].map(correspondencia).fillna(paisos['Continent_dest'])\n"
     ]
    },
    {
     "data": {
      "text/plain": [
       "array([], dtype=object)"
      ]
     },
     "execution_count": 20,
     "metadata": {},
     "output_type": "execute_result"
    }
   ],
   "source": [
    "df = df.rename(columns={'Region, development group, country or area of origin': 'Origin',\n",
    "                        'Region, development group, country or area of destination': 'Destination', \n",
    "                        'Location code of destination': 'cod_dest', \n",
    "                        'Location code of origin': 'cod_orig'})\n",
    "\n",
    "df['Origin'] = df['Origin'].str.replace('*', '')\n",
    "df['Origin'] = df['Origin'].str.strip()\n",
    "\n",
    "\n",
    "df['Destination'] = df['Destination'].str.replace('*', '')\n",
    "df['Destination'] = df['Destination'].str.strip()\n",
    "\n",
    "\n",
    "paisos = df[(df['cod_orig'] < 900) & (df['cod_dest'] < 900)]\n",
    "\n",
    "\n",
    "codis_desitjats = [910, 911, 912, 913, 914, 923, 924, 925, 926, 5500, 906, 920, 5501, 922, 915, 916, 931, 905, 927, 928, 954, 957]\n",
    "\n",
    "zones = df[(df['cod_orig'].isin(codis_desitjats)) & (df['cod_dest'].isin(codis_desitjats))]\n",
    "\n",
    "\n",
    "def country_to_continent(country_code):\n",
    "    try:\n",
    "        country_alpha2 = pc.country_name_to_country_alpha2(country_code)\n",
    "        continent_code = pc.country_alpha2_to_continent_code(country_alpha2)\n",
    "        continent_name = pc.convert_continent_code_to_continent_name(continent_code)\n",
    "        return continent_name\n",
    "    except:\n",
    "        return None\n",
    "\n",
    "\n",
    "paisos['Continent_origin'] = df['Origin'].apply(country_to_continent)\n",
    "paisos['Continent_dest'] = df['Destination'].apply(country_to_continent)\n",
    "\n",
    "# apliquem manualment els continents que no s'han aplicat amb la funció \n",
    "\n",
    "correspondencia = {\n",
    "    'China, Hong Kong SAR': 'Asia',\n",
    "    \"Dem. People's Republic of Korea\": 'Asia',\n",
    "    'Republic of Korea': 'Asia',\n",
    "    'State of Palestine': 'Asia',\n",
    "    'Western Sahara': 'Africa',\n",
    "    'Iran (Islamic Republic of)': 'Asia',\n",
    "    'Venezuela (Bolivarian Republic of)': 'South America',\n",
    "    'Bolivia (Plurinational State of)': 'South America',\n",
    "    'Saint Helena': 'Africa',\n",
    "    'Timor-Leste': 'Asia',\n",
    "    'Micronesia (Fed. States of)': 'Oceania',\n",
    "    'China, Macao SAR': 'Asia',\n",
    "    'Holy See': 'Europe',\n",
    "    'Wallis and Futuna Islands': 'Oceania',\n",
    "    'Channel Islands': 'Europe',\n",
    "    'Sint Maarten (Dutch part)': 'North America'\n",
    "}\n",
    "\n",
    "paisos['Continent_origin'] = paisos['Origin'].map(correspondencia).fillna(paisos['Continent_origin'])\n",
    "paisos['Continent_dest'] = paisos['Destination'].map(correspondencia).fillna(paisos['Continent_dest'])\n",
    "\n",
    "\n",
    "\n",
    "paisos.to_csv('paisos2.csv', index=False)\n",
    "\n",
    "\n"
   ]
  },
  {
   "cell_type": "markdown",
   "id": "8a950b1c",
   "metadata": {},
   "source": [
    "# 3. Afegim Longitud i Latitud dels paisos tant d'origen com de destinació i creem un arxiu GeoJson amb les línies de cada combinació de paisos"
   ]
  },
  {
   "cell_type": "code",
   "execution_count": 21,
   "id": "62905432",
   "metadata": {},
   "outputs": [],
   "source": [
    "import pandas as pd\n",
    "import geopandas as gpd\n",
    "from shapely.geometry import Point\n",
    "from shapely.geometry import LineString\n",
    "\n",
    "paisos = pd.read_csv('paisos2.csv')\n",
    "df_longitude_latitude = pd.read_csv('longitude-latitude.csv')\n",
    "\n",
    "# afegim manualment paisos que no consten al dataset\n",
    "\n",
    "nous_països = pd.DataFrame({\n",
    "    'Country': ['Democratic Republic of the Congo', 'United Republic of Tanzania',\n",
    "                'China, Hong Kong SAR', 'Cabo Verde', \"Dem. People's Republic of Korea\",\n",
    "                'Republic of Korea', 'State of Palestine', 'Republic of Moldova',\n",
    "                'Micronesia (Fed. States of)', 'China, Macao SAR',\n",
    "                'Wallis and Futuna Islands', 'Channel Islands'],\n",
    "    'Latitude': [-4.0383, -6.369028, 22.3193, 16.5388, 40.3399, 35.9078, 31.9522, 47.4116, 6.8874, 22.1987, -13.7685, 49.3723],\n",
    "    'Longitude': [21.7587, 34.888822, 114.1694, -23.0418, 127.5101, 127.7669, 35.2332, 28.3699, 158.2150, 113.5439, -177.1561, -2.3644]\n",
    "})\n",
    "\n",
    "# Afegim les noves files al DataFrame original\n",
    "\n",
    "df_longitude_latitude = pd.concat([df_longitude_latitude, nous_països], ignore_index=True)\n",
    "\n",
    "\n",
    "paisos = pd.merge(paisos, df_longitude_latitude, left_on='Origin', right_on='Country', how='left')\n",
    "\n",
    "paisos = paisos.rename(columns={'Longitude': 'Orig_longitude', 'Latitude': 'Orig_latitude'})\n",
    "\n",
    "paisos = pd.merge(paisos, df_longitude_latitude, left_on='Destination', right_on='Country', how='left')\n",
    "\n",
    "paisos = paisos.rename(columns={'Longitude': 'Dest_longitude', 'Latitude': 'Dest_latitude'})\n",
    "\n",
    "paisos = paisos.drop(['Country_x', 'Country_y'], axis=1, errors='ignore')\n",
    "\n",
    "columns_to_keep = ['Destination', 'Origin', '1990', '1995', '2000', '2005', '2010', '2015', '2020',\n",
    "                   '1990.1', '1995.1', '2000.1', '2005.1', '2010.1', '2015.1', '2020.1',\n",
    "                   '1990.2', '1995.2', '2000.2', '2005.2', '2010.2', '2015.2', '2020.2',\n",
    "                   'Continent_origin', 'Continent_dest', \n",
    "                   'Orig_latitude', 'Orig_longitude', 'Dest_latitude', 'Dest_longitude']\n",
    "\n",
    "paisos = paisos.loc[:, columns_to_keep]\n",
    "\n",
    "paisos.replace({'Origin': {'Russian Federation': 'Russia'},\n",
    "            'Destination': {'Russian Federation': 'Russia'}}, inplace=True)\n",
    "\n",
    "\n",
    "paisos['Line'] = [LineString([(orig_lon, orig_lat), (dest_lon, dest_lat)]) for orig_lon, orig_lat, dest_lon, dest_lat in zip(paisos['Orig_longitude'], paisos['Orig_latitude'], paisos['Dest_longitude'], paisos['Dest_latitude'])]\n",
    "\n",
    "# Creem un GeoDataFrame a partir del DataFrame amb les línies com a geometries\n",
    "\n",
    "gdf_lines = gpd.GeoDataFrame(paisos, geometry='Line')\n",
    "\n",
    "# Guardem el GeoDataFrame com a GeoJSON\n",
    "gdf_lines.to_file(\"output.geojson\", driver=\"GeoJSON\")\n",
    "\n",
    "\n",
    "# Crear les columnes de tipus geometry per a les coordenades d'origen i destinació\n",
    "paisos['Coord_origin'] = paisos.apply(lambda row: Point(row['Orig_longitude'], row['Orig_latitude']), axis=1)\n",
    "paisos['Coord_dest'] = paisos.apply(lambda row: Point(row['Dest_longitude'], row['Dest_latitude']), axis=1)\n",
    "\n",
    "\n",
    "paisos = paisos.dropna(subset=['Coord_origin'])\n",
    "paisos = paisos.dropna(subset=['Coord_dest'])\n",
    "\n",
    "\n",
    "\n",
    "paisos.to_csv('paisos3.csv', index=False)\n",
    "\n",
    "\n"
   ]
  },
  {
   "cell_type": "markdown",
   "id": "f9529921",
   "metadata": {},
   "source": [
    "# 4. Creem un dataset amb els anys per files i els continents d'origen per columnes"
   ]
  },
  {
   "cell_type": "code",
   "execution_count": 22,
   "id": "60dff974",
   "metadata": {},
   "outputs": [
    {
     "data": {
      "text/plain": [
       "index                         int64\n",
       "Year                         object\n",
       "Afghanistan                   int64\n",
       "Albania                       int64\n",
       "Algeria                       int64\n",
       "                              ...  \n",
       "Wallis and Futuna Islands     int64\n",
       "Western Sahara                int64\n",
       "Yemen                         int64\n",
       "Zambia                        int64\n",
       "Zimbabwe                      int64\n",
       "Length: 234, dtype: object"
      ]
     },
     "execution_count": 22,
     "metadata": {},
     "output_type": "execute_result"
    }
   ],
   "source": [
    "# Selecciona només les columnes d'interès (Country i les columnes d'any)\n",
    "\n",
    "columns_of_interest = ['Origin', '1990', '1995', '2000', '2005', '2010', '2015', '2020']\n",
    "df2 = paisos[columns_of_interest]\n",
    "\n",
    "df_melted = pd.melt(df2, id_vars=['Origin'], var_name='Year', value_name='Value')\n",
    "\n",
    "df_grouped = df_melted.groupby(['Origin', 'Year']).sum().reset_index()\n",
    "\n",
    "df_pivoted = df_grouped.pivot(index='Year', columns='Origin', values='Value').reset_index()\n",
    "\n",
    "df_pivoted = df_pivoted.rename_axis(None, axis=1).reset_index()\n",
    "\n",
    "df_pivoted.dtypes\n"
   ]
  },
  {
   "cell_type": "markdown",
   "id": "6c938b83",
   "metadata": {},
   "source": [
    "# 5. Creem un dataset que correspon al balanç de migrants de l'any 2020 per pais i el percentatge d'homes i dones"
   ]
  },
  {
   "cell_type": "code",
   "execution_count": 23,
   "id": "7f4ff2a6",
   "metadata": {},
   "outputs": [],
   "source": [
    "migrants_marxen = paisos.groupby('Origin')[['2020', '2020.1', '2020.2']].sum().reset_index()\n",
    "migrants_marxen = migrants_marxen.rename(columns={'2020': 'Migrants que marxen', '2020.1': 'Homes que marxen', '2020.2': 'Dones que marxen'})\n",
    "\n",
    "# Agrupem per país de destinació i suma la quantitat de migrants per cada columna\n",
    "migrants_arriben = paisos.groupby('Destination')[['2020', '2020.1', '2020.2']].sum().reset_index()\n",
    "migrants_arriben = migrants_arriben.rename(columns={'2020': 'Migrants que arriben', '2020.1': 'Homes que arriben', '2020.2': 'Dones que arriben'})\n",
    "resultat = pd.merge(migrants_marxen, migrants_arriben, how='outer', left_on='Origin', right_on='Destination')\n",
    "\n",
    "resultat = resultat.fillna(0)\n",
    "\n",
    "# Calculem la diferència entre migrants que marxen i migrants que arriben per cada columna\n",
    "resultat['Balanç Total'] = resultat['Migrants que arriben'] - resultat['Migrants que marxen']\n",
    "resultat['% Homes Arriben'] = resultat['Homes que arriben']*100/resultat['Migrants que arriben']\n",
    "resultat['% Dones Arriben'] = resultat['Dones que arriben']*100/resultat['Migrants que arriben']\n",
    "resultat['% Homes Marxen'] = resultat['Homes que marxen']*100/resultat['Migrants que marxen']\n",
    "resultat['% Dones Marxen'] = resultat['Dones que marxen']*100/resultat['Migrants que marxen']\n",
    "\n",
    "resultat = resultat.drop(['Destination'], axis=1)\n",
    "\n",
    "resultat.to_csv('paisos4.csv', index=False)\n",
    "\n"
   ]
  },
  {
   "cell_type": "markdown",
   "id": "ebd37c08",
   "metadata": {},
   "source": [
    "# 6. Creem un dataset agrupat per país d'origen"
   ]
  },
  {
   "cell_type": "code",
   "execution_count": 26,
   "id": "e58cf038",
   "metadata": {},
   "outputs": [],
   "source": [
    "columnes_interes = ['Origin', '1990', '1995', '2000', '2005', '2010', '2015', '2020', 'Continent_origin']\n",
    "\n",
    "resultat_groupby = paisos[columnes_interes].groupby(['Origin', 'Continent_origin']).sum().reset_index()\n",
    "\n",
    "resultat_groupby.to_csv('paisos6.csv', index=False)\n",
    "\n"
   ]
  },
  {
   "cell_type": "markdown",
   "id": "1dcd49d3",
   "metadata": {},
   "source": [
    "# 7. Creem un dataset que correspon a combinacions de paisos que al 2020 tinguin més de 100.000 migrants"
   ]
  },
  {
   "cell_type": "code",
   "execution_count": 24,
   "id": "2d66f92e",
   "metadata": {},
   "outputs": [],
   "source": [
    "df_seleccionat2 = paisos[['Origin', 'Destination', '2020', 'Continent_origin', 'Continent_dest']]\n",
    "\n",
    "df_filtrat2 = df_seleccionat2[df_seleccionat2['2020'] > 100000]\n",
    "df_filtrat2.to_csv('paisos5.csv', index=False)\n"
   ]
  }
 ],
 "metadata": {
  "kernelspec": {
   "display_name": "Python 3 (ipykernel)",
   "language": "python",
   "name": "python3"
  },
  "language_info": {
   "codemirror_mode": {
    "name": "ipython",
    "version": 3
   },
   "file_extension": ".py",
   "mimetype": "text/x-python",
   "name": "python",
   "nbconvert_exporter": "python",
   "pygments_lexer": "ipython3",
   "version": "3.9.13"
  }
 },
 "nbformat": 4,
 "nbformat_minor": 5
}
